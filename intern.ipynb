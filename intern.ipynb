{
  "cells": [
    {
      "cell_type": "markdown",
      "metadata": {
        "id": "view-in-github",
        "colab_type": "text"
      },
      "source": [
        "<a href=\"https://colab.research.google.com/github/sajitha-shanmugam/Stock-price-visulaizer/blob/main/intern.ipynb\" target=\"_parent\"><img src=\"https://colab.research.google.com/assets/colab-badge.svg\" alt=\"Open In Colab\"/></a>"
      ]
    },
    {
      "cell_type": "code",
      "execution_count": null,
      "metadata": {
        "id": "17pn0wtZms8V"
      },
      "outputs": [],
      "source": [
        "# Install required libraries (run this only once)\n",
        "!pip install yfinance matplotlib pandas --quiet\n"
      ]
    },
    {
      "cell_type": "code",
      "source": [
        "# Import libraries\n",
        "import yfinance as yf\n",
        "import pandas as pd\n",
        "import matplotlib.pyplot as plt\n",
        "\n",
        "# Function to visualize stock price\n",
        "def visualize_stock_price(ticker_symbol, start_date, end_date):\n",
        "    # Download historical stock data\n",
        "    stock_data = yf.download(ticker_symbol, start=start_date, end=end_date)\n",
        "\n",
        "    # Check if data is available\n",
        "    if stock_data.empty:\n",
        "        print(\"No data found. Please check the ticker and date range.\")\n",
        "        return\n",
        "\n",
        "    # Plot closing price\n",
        "    plt.figure(figsize=(12, 6))\n",
        "    plt.plot(stock_data['Close'], label='Closing Price', color='blue')\n",
        "    plt.title(f'{ticker_symbol} Stock Price ({start_date} to {end_date})')\n",
        "    plt.xlabel('Date')\n",
        "    plt.ylabel('Price (USD)')\n",
        "    plt.grid(True)\n",
        "    plt.legend()\n",
        "    plt.show()\n",
        "\n",
        "# Run the function with user input\n",
        "ticker = input(\"Enter stock ticker symbol (e.g., AAPL, MSFT): \").upper()\n",
        "start_date = input(\"Enter start date (YYYY-MM-DD): \")\n",
        "end_date = input(\"Enter end date (YYYY-MM-DD): \")\n",
        "\n",
        "visualize_stock_price(ticker, start_date, end_date)\n"
      ],
      "metadata": {
        "colab": {
          "base_uri": "https://localhost:8080/"
        },
        "id": "fdprO_5pxjHu",
        "outputId": "0def41ae-10b7-41b9-f060-0ffbb45dd0a4"
      },
      "execution_count": null,
      "outputs": [
        {
          "name": "stdout",
          "output_type": "stream",
          "text": [
            "Enter stock ticker symbol (e.g., AAPL, MSFT): 04-05-2022\n",
            "Enter start date (YYYY-MM-DD): 05-10-2023\n",
            "Enter end date (YYYY-MM-DD): 06-10-2023\n"
          ]
        },
        {
          "output_type": "stream",
          "name": "stderr",
          "text": [
            "/tmp/ipython-input-2-2224325732.py:9: FutureWarning: YF.download() has changed argument auto_adjust default to True\n",
            "  stock_data = yf.download(ticker_symbol, start=start_date, end=end_date)\n",
            "ERROR:yfinance:HTTP Error 404: \n",
            "[*********************100%***********************]  1 of 1 completed\n",
            "ERROR:yfinance:\n",
            "1 Failed download:\n",
            "ERROR:yfinance:['04-05-2022']: YFTzMissingError('possibly delisted; no timezone found')\n"
          ]
        },
        {
          "output_type": "stream",
          "name": "stdout",
          "text": [
            "No data found. Please check the ticker and date range.\n"
          ]
        }
      ]
    }
  ],
  "metadata": {
    "colab": {
      "provenance": [],
      "authorship_tag": "ABX9TyNz+wRyYY6iwASWVjRa7r9U",
      "include_colab_link": true
    },
    "kernelspec": {
      "display_name": "Python 3",
      "name": "python3"
    },
    "language_info": {
      "name": "python"
    }
  },
  "nbformat": 4,
  "nbformat_minor": 0
}